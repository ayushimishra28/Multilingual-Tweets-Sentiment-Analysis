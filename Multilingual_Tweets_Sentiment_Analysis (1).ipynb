{
  "nbformat": 4,
  "nbformat_minor": 0,
  "metadata": {
    "colab": {
      "name": "Multilingual Tweets Sentiment Analysis.ipynb",
      "provenance": [],
      "collapsed_sections": []
    },
    "kernelspec": {
      "display_name": "Python 3",
      "name": "python3"
    },
    "language_info": {
      "name": "python"
    }
  },
  "cells": [
    {
      "cell_type": "markdown",
      "metadata": {
        "id": "mk_tcjuqdkJF"
      },
      "source": [
        "# **Installing necessary dependencies**"
      ]
    },
    {
      "cell_type": "code",
      "metadata": {
        "colab": {
          "base_uri": "https://localhost:8080/"
        },
        "id": "EX0rg9sSd1mF",
        "outputId": "d4612619-dfa8-4d8e-f211-c084463c1029"
      },
      "source": [
        "! pip install googletrans==3.1.0a0\n",
        "! pip install langdetect\n",
        "! pip install vaderSentiment\n",
        "! pip install textblob"
      ],
      "execution_count": null,
      "outputs": [
        {
          "output_type": "stream",
          "name": "stdout",
          "text": [
            "Requirement already satisfied: googletrans==3.1.0a0 in /usr/local/lib/python3.7/dist-packages (3.1.0a0)\n",
            "Requirement already satisfied: httpx==0.13.3 in /usr/local/lib/python3.7/dist-packages (from googletrans==3.1.0a0) (0.13.3)\n",
            "Requirement already satisfied: sniffio in /usr/local/lib/python3.7/dist-packages (from httpx==0.13.3->googletrans==3.1.0a0) (1.2.0)\n",
            "Requirement already satisfied: hstspreload in /usr/local/lib/python3.7/dist-packages (from httpx==0.13.3->googletrans==3.1.0a0) (2021.8.1)\n",
            "Requirement already satisfied: rfc3986<2,>=1.3 in /usr/local/lib/python3.7/dist-packages (from httpx==0.13.3->googletrans==3.1.0a0) (1.5.0)\n",
            "Requirement already satisfied: certifi in /usr/local/lib/python3.7/dist-packages (from httpx==0.13.3->googletrans==3.1.0a0) (2021.5.30)\n",
            "Requirement already satisfied: idna==2.* in /usr/local/lib/python3.7/dist-packages (from httpx==0.13.3->googletrans==3.1.0a0) (2.10)\n",
            "Requirement already satisfied: httpcore==0.9.* in /usr/local/lib/python3.7/dist-packages (from httpx==0.13.3->googletrans==3.1.0a0) (0.9.1)\n",
            "Requirement already satisfied: chardet==3.* in /usr/local/lib/python3.7/dist-packages (from httpx==0.13.3->googletrans==3.1.0a0) (3.0.4)\n",
            "Requirement already satisfied: h2==3.* in /usr/local/lib/python3.7/dist-packages (from httpcore==0.9.*->httpx==0.13.3->googletrans==3.1.0a0) (3.2.0)\n",
            "Requirement already satisfied: h11<0.10,>=0.8 in /usr/local/lib/python3.7/dist-packages (from httpcore==0.9.*->httpx==0.13.3->googletrans==3.1.0a0) (0.9.0)\n",
            "Requirement already satisfied: hpack<4,>=3.0 in /usr/local/lib/python3.7/dist-packages (from h2==3.*->httpcore==0.9.*->httpx==0.13.3->googletrans==3.1.0a0) (3.0.0)\n",
            "Requirement already satisfied: hyperframe<6,>=5.2.0 in /usr/local/lib/python3.7/dist-packages (from h2==3.*->httpcore==0.9.*->httpx==0.13.3->googletrans==3.1.0a0) (5.2.0)\n",
            "Requirement already satisfied: langdetect in /usr/local/lib/python3.7/dist-packages (1.0.9)\n",
            "Requirement already satisfied: six in /usr/local/lib/python3.7/dist-packages (from langdetect) (1.15.0)\n",
            "Requirement already satisfied: vaderSentiment in /usr/local/lib/python3.7/dist-packages (3.3.2)\n",
            "Requirement already satisfied: requests in /usr/local/lib/python3.7/dist-packages (from vaderSentiment) (2.23.0)\n",
            "Requirement already satisfied: certifi>=2017.4.17 in /usr/local/lib/python3.7/dist-packages (from requests->vaderSentiment) (2021.5.30)\n",
            "Requirement already satisfied: idna<3,>=2.5 in /usr/local/lib/python3.7/dist-packages (from requests->vaderSentiment) (2.10)\n",
            "Requirement already satisfied: chardet<4,>=3.0.2 in /usr/local/lib/python3.7/dist-packages (from requests->vaderSentiment) (3.0.4)\n",
            "Requirement already satisfied: urllib3!=1.25.0,!=1.25.1,<1.26,>=1.21.1 in /usr/local/lib/python3.7/dist-packages (from requests->vaderSentiment) (1.24.3)\n",
            "Requirement already satisfied: textblob in /usr/local/lib/python3.7/dist-packages (0.15.3)\n",
            "Requirement already satisfied: nltk>=3.1 in /usr/local/lib/python3.7/dist-packages (from textblob) (3.2.5)\n",
            "Requirement already satisfied: six in /usr/local/lib/python3.7/dist-packages (from nltk>=3.1->textblob) (1.15.0)\n"
          ]
        }
      ]
    },
    {
      "cell_type": "markdown",
      "metadata": {
        "id": "ZYACsf6kdSBL"
      },
      "source": [
        "# **Importing Libraries**"
      ]
    },
    {
      "cell_type": "code",
      "metadata": {
        "colab": {
          "base_uri": "https://localhost:8080/"
        },
        "id": "H2Bcg5X4ddpE",
        "outputId": "bb46f159-033a-4c1f-b2e3-89eec2001988"
      },
      "source": [
        "import pandas as pd\n",
        "import re\n",
        "import nltk\n",
        "import numpy as np\n",
        "import string\n",
        "from langdetect import detect\n",
        "import nltk\n",
        "nltk.download('punkt')\n",
        "nltk.download('stopwords')\n",
        "nltk.download('wordnet')\n",
        "from nltk.tokenize import word_tokenize\n",
        "from nltk.stem import WordNetLemmatizer,PorterStemmer\n",
        "from nltk.corpus import stopwords\n",
        "from googletrans import Translator\n",
        "from vaderSentiment.vaderSentiment import SentimentIntensityAnalyzer\n",
        "from textblob import TextBlob\n",
        "from sklearn.feature_extraction.text import TfidfVectorizer\n",
        "from sklearn.linear_model import LogisticRegression\n",
        "from sklearn.ensemble import RandomForestClassifier\n",
        "from sklearn.svm import SVC\n",
        "from sklearn.tree import DecisionTreeClassifier\n",
        "from sklearn.metrics import accuracy_score, f1_score\n",
        "from sklearn.neighbors import KNeighborsClassifier  "
      ],
      "execution_count": null,
      "outputs": [
        {
          "output_type": "stream",
          "name": "stdout",
          "text": [
            "[nltk_data] Downloading package punkt to /root/nltk_data...\n",
            "[nltk_data]   Package punkt is already up-to-date!\n",
            "[nltk_data] Downloading package stopwords to /root/nltk_data...\n",
            "[nltk_data]   Package stopwords is already up-to-date!\n",
            "[nltk_data] Downloading package wordnet to /root/nltk_data...\n",
            "[nltk_data]   Package wordnet is already up-to-date!\n"
          ]
        }
      ]
    },
    {
      "cell_type": "markdown",
      "metadata": {
        "id": "JUps2EGDgdeG"
      },
      "source": [
        "# **Loading the dataset**"
      ]
    },
    {
      "cell_type": "code",
      "metadata": {
        "id": "bM3qcydCgjJm"
      },
      "source": [
        "tweets = pd.read_csv('/content/multilingual tweets.csv', encoding='ISO-8859-1')\n",
        "tweets = tweets[:200]"
      ],
      "execution_count": null,
      "outputs": []
    },
    {
      "cell_type": "markdown",
      "metadata": {
        "id": "iCtD56gBg5wE"
      },
      "source": [
        "# **Exploratory Data Analysis**"
      ]
    },
    {
      "cell_type": "code",
      "metadata": {
        "colab": {
          "base_uri": "https://localhost:8080/",
          "height": 425
        },
        "id": "yhrFP5HZhM_K",
        "outputId": "ff7a1f77-7061-4133-fe95-df130624feee"
      },
      "source": [
        "tweets.head()"
      ],
      "execution_count": null,
      "outputs": [
        {
          "output_type": "execute_result",
          "data": {
            "text/html": [
              "<div>\n",
              "<style scoped>\n",
              "    .dataframe tbody tr th:only-of-type {\n",
              "        vertical-align: middle;\n",
              "    }\n",
              "\n",
              "    .dataframe tbody tr th {\n",
              "        vertical-align: top;\n",
              "    }\n",
              "\n",
              "    .dataframe thead th {\n",
              "        text-align: right;\n",
              "    }\n",
              "</style>\n",
              "<table border=\"1\" class=\"dataframe\">\n",
              "  <thead>\n",
              "    <tr style=\"text-align: right;\">\n",
              "      <th></th>\n",
              "      <th>Tweet ID</th>\n",
              "      <th>Country</th>\n",
              "      <th>Date</th>\n",
              "      <th>Tweet</th>\n",
              "      <th>Definitely English</th>\n",
              "      <th>Ambiguous</th>\n",
              "      <th>Definitely Not English</th>\n",
              "      <th>Code-Switched</th>\n",
              "      <th>Ambiguous due to Named Entities</th>\n",
              "      <th>Automatically Generated Tweets</th>\n",
              "    </tr>\n",
              "  </thead>\n",
              "  <tbody>\n",
              "    <tr>\n",
              "      <th>0</th>\n",
              "      <td>4.342160e+17</td>\n",
              "      <td>TR</td>\n",
              "      <td>2/14/2014</td>\n",
              "      <td>BugÃ¼n bulusmami lazimdiii</td>\n",
              "      <td>0</td>\n",
              "      <td>0</td>\n",
              "      <td>1</td>\n",
              "      <td>0</td>\n",
              "      <td>0</td>\n",
              "      <td>0</td>\n",
              "    </tr>\n",
              "    <tr>\n",
              "      <th>1</th>\n",
              "      <td>2.859030e+17</td>\n",
              "      <td>TR</td>\n",
              "      <td>1/1/2013</td>\n",
              "      <td>Volkan konak adami tribe sokar yemin ederim :D</td>\n",
              "      <td>0</td>\n",
              "      <td>0</td>\n",
              "      <td>1</td>\n",
              "      <td>0</td>\n",
              "      <td>0</td>\n",
              "      <td>0</td>\n",
              "    </tr>\n",
              "    <tr>\n",
              "      <th>2</th>\n",
              "      <td>2.859480e+17</td>\n",
              "      <td>NL</td>\n",
              "      <td>1/1/2013</td>\n",
              "      <td>Bed</td>\n",
              "      <td>1</td>\n",
              "      <td>0</td>\n",
              "      <td>0</td>\n",
              "      <td>0</td>\n",
              "      <td>0</td>\n",
              "      <td>0</td>\n",
              "    </tr>\n",
              "    <tr>\n",
              "      <th>3</th>\n",
              "      <td>2.859660e+17</td>\n",
              "      <td>US</td>\n",
              "      <td>1/1/2013</td>\n",
              "      <td>I felt my first flash of violence at some fool...</td>\n",
              "      <td>1</td>\n",
              "      <td>0</td>\n",
              "      <td>0</td>\n",
              "      <td>0</td>\n",
              "      <td>0</td>\n",
              "      <td>0</td>\n",
              "    </tr>\n",
              "    <tr>\n",
              "      <th>4</th>\n",
              "      <td>2.860580e+17</td>\n",
              "      <td>US</td>\n",
              "      <td>1/1/2013</td>\n",
              "      <td>Ladies drink and get in free till 10:30</td>\n",
              "      <td>1</td>\n",
              "      <td>0</td>\n",
              "      <td>0</td>\n",
              "      <td>0</td>\n",
              "      <td>0</td>\n",
              "      <td>0</td>\n",
              "    </tr>\n",
              "  </tbody>\n",
              "</table>\n",
              "</div>"
            ],
            "text/plain": [
              "       Tweet ID  ... Automatically Generated Tweets\n",
              "0  4.342160e+17  ...                              0\n",
              "1  2.859030e+17  ...                              0\n",
              "2  2.859480e+17  ...                              0\n",
              "3  2.859660e+17  ...                              0\n",
              "4  2.860580e+17  ...                              0\n",
              "\n",
              "[5 rows x 10 columns]"
            ]
          },
          "metadata": {},
          "execution_count": 40
        }
      ]
    },
    {
      "cell_type": "code",
      "metadata": {
        "colab": {
          "base_uri": "https://localhost:8080/"
        },
        "id": "zE7T_-MghUgs",
        "outputId": "09028923-3822-4f5a-aa89-3ec61d8a0f6a"
      },
      "source": [
        "tweets.columns"
      ],
      "execution_count": null,
      "outputs": [
        {
          "output_type": "execute_result",
          "data": {
            "text/plain": [
              "Index(['Tweet ID', 'Country', 'Date', 'Tweet', 'Definitely English',\n",
              "       'Ambiguous', 'Definitely Not English', 'Code-Switched',\n",
              "       'Ambiguous due to Named Entities', 'Automatically Generated Tweets'],\n",
              "      dtype='object')"
            ]
          },
          "metadata": {},
          "execution_count": 41
        }
      ]
    },
    {
      "cell_type": "code",
      "metadata": {
        "colab": {
          "base_uri": "https://localhost:8080/"
        },
        "id": "nP5SINFIh7dv",
        "outputId": "1fb2691c-f2af-4624-b6f4-56600b0c7239"
      },
      "source": [
        "print('length of data is', len(tweets))"
      ],
      "execution_count": null,
      "outputs": [
        {
          "output_type": "stream",
          "name": "stdout",
          "text": [
            "length of data is 200\n"
          ]
        }
      ]
    },
    {
      "cell_type": "code",
      "metadata": {
        "colab": {
          "base_uri": "https://localhost:8080/"
        },
        "id": "MVQEwNpPh-sY",
        "outputId": "056b00b3-7c4e-497a-eef9-0863b76e1a57"
      },
      "source": [
        "tweets.info()"
      ],
      "execution_count": null,
      "outputs": [
        {
          "output_type": "stream",
          "name": "stdout",
          "text": [
            "<class 'pandas.core.frame.DataFrame'>\n",
            "RangeIndex: 200 entries, 0 to 199\n",
            "Data columns (total 10 columns):\n",
            " #   Column                           Non-Null Count  Dtype  \n",
            "---  ------                           --------------  -----  \n",
            " 0   Tweet ID                         200 non-null    float64\n",
            " 1   Country                          200 non-null    object \n",
            " 2   Date                             200 non-null    object \n",
            " 3   Tweet                            200 non-null    object \n",
            " 4   Definitely English               200 non-null    int64  \n",
            " 5   Ambiguous                        200 non-null    int64  \n",
            " 6   Definitely Not English           200 non-null    int64  \n",
            " 7   Code-Switched                    200 non-null    int64  \n",
            " 8   Ambiguous due to Named Entities  200 non-null    int64  \n",
            " 9   Automatically Generated Tweets   200 non-null    int64  \n",
            "dtypes: float64(1), int64(6), object(3)\n",
            "memory usage: 15.8+ KB\n"
          ]
        }
      ]
    },
    {
      "cell_type": "code",
      "metadata": {
        "colab": {
          "base_uri": "https://localhost:8080/"
        },
        "id": "4QTSgDv8iFL1",
        "outputId": "ccd3beba-acfd-4f6c-9a99-ef008aa976f8"
      },
      "source": [
        "tweets.isnull().sum()"
      ],
      "execution_count": null,
      "outputs": [
        {
          "output_type": "execute_result",
          "data": {
            "text/plain": [
              "Tweet ID                           0\n",
              "Country                            0\n",
              "Date                               0\n",
              "Tweet                              0\n",
              "Definitely English                 0\n",
              "Ambiguous                          0\n",
              "Definitely Not English             0\n",
              "Code-Switched                      0\n",
              "Ambiguous due to Named Entities    0\n",
              "Automatically Generated Tweets     0\n",
              "dtype: int64"
            ]
          },
          "metadata": {},
          "execution_count": 44
        }
      ]
    },
    {
      "cell_type": "markdown",
      "metadata": {
        "id": "rOfn1N1viuKr"
      },
      "source": [
        "# **Detecting and Translating tweets**"
      ]
    },
    {
      "cell_type": "code",
      "metadata": {
        "id": "QbOqnwPVju_c"
      },
      "source": [
        "def detect_language(tweet):\n",
        "    try:\n",
        "        lang = detect(tweet)\n",
        "    except:\n",
        "        lang = 'Other'\n",
        "    return lang\n",
        "tweets['Language'] = tweets['Tweet'].apply(lambda x: detect_language(x))\n",
        "tweets = tweets[tweets['Language'] != 'Other']"
      ],
      "execution_count": null,
      "outputs": []
    },
    {
      "cell_type": "code",
      "metadata": {
        "id": "CDmc79hRkJxn"
      },
      "source": [
        "\n",
        "translated = []\n",
        "for index, row in tweets.iterrows():\n",
        "    translator = Translator()\n",
        "    translation = translator.translate(row['Tweet'],src = row['Language'],dest=\"en\")\n",
        "    translated.append(translation.text)\n",
        "\n",
        "tweets['Translated']=translated\n",
        "\n"
      ],
      "execution_count": null,
      "outputs": []
    },
    {
      "cell_type": "code",
      "metadata": {
        "colab": {
          "base_uri": "https://localhost:8080/",
          "height": 518
        },
        "id": "m1ud9z_V74y3",
        "outputId": "8638d574-238a-4d01-f0ec-10a6a09913f3"
      },
      "source": [
        "import matplotlib.pyplot as plt\n",
        "country_df = tweets.groupby('Country')[['Tweet']].count()\n",
        "country_df = country_df.nlargest(10,'Tweet')\n",
        "plt.figure(figsize = (10,8))\n",
        "plt.title('Top 10 Countries with number of tweets', fontsize = 15)\n",
        "plt.bar(country_df.index, country_df.Tweet, color = 'cyan', linewidth = 3, edgecolor = 'k')"
      ],
      "execution_count": null,
      "outputs": [
        {
          "output_type": "execute_result",
          "data": {
            "text/plain": [
              "<BarContainer object of 10 artists>"
            ]
          },
          "metadata": {},
          "execution_count": 47
        },
        {
          "output_type": "display_data",
          "data": {
            "image/png": "[encoded data removed]",
            "text/plain": [
              "<Figure size 720x576 with 1 Axes>"
            ]
          },
          "metadata": {
            "needs_background": "light"
          }
        }
      ]
    },
    {
      "cell_type": "code",
      "metadata": {
        "colab": {
          "base_uri": "https://localhost:8080/",
          "height": 518
        },
        "id": "zpthVhvQBZoW",
        "outputId": "748e5323-1418-445e-91d8-73cc694d7dd8"
      },
      "source": [
        "country_df = tweets.groupby('Language')[['Tweet']].count()\n",
        "country_df = country_df.nlargest(10,'Tweet')\n",
        "plt.figure(figsize = (10,8))\n",
        "plt.title('Top 10 Language with number of tweets', fontsize = 15)\n",
        "plt.bar(country_df.index, country_df.Tweet, linewidth = 3, edgecolor = 'k')"
      ],
      "execution_count": null,
      "outputs": [
        {
          "output_type": "execute_result",
          "data": {
            "text/plain": [
              "<BarContainer object of 10 artists>"
            ]
          },
          "metadata": {},
          "execution_count": 48
        },
        {
          "output_type": "display_data",
          "data": {
            "image/png": "[encoded data removed]",
            "text/plain": [
              "<Figure size 720x576 with 1 Axes>"
            ]
          },
          "metadata": {
            "needs_background": "light"
          }
        }
      ]
    },
    {
      "cell_type": "markdown",
      "metadata": {
        "id": "2_6LOWZHlBoS"
      },
      "source": [
        "# **Text Preprocessing**"
      ]
    },
    {
      "cell_type": "code",
      "metadata": {
        "id": "jE44kcOOlHX9"
      },
      "source": [
        "tweets[\"Translated\"] = tweets[\"Translated\"].str.lower()\n",
        "\n",
        "\n",
        "def remove_urls(text):\n",
        "    url_pattern = re.compile(r'https?://\\S+|www\\.\\S+')\n",
        "    return url_pattern.sub(r'', text)\n",
        "tweets[\"Translated\"] = tweets[\"Translated\"].apply(lambda text: remove_urls(text))\n",
        "\n",
        "PUNCT_TO_REMOVE = string.punctuation\n",
        "def remove_punctuation(text):\n",
        "    \"\"\"custom function to remove the punctuation\"\"\"\n",
        "    return text.translate(str.maketrans('', '', PUNCT_TO_REMOVE))\n",
        "\n",
        "tweets[\"Translated\"] = tweets[\"Translated\"].apply(lambda text: remove_punctuation(text))\n",
        "def remove_emoji(string):\n",
        "    emoji_pattern = re.compile(\"[\"\n",
        "                           u\"\\U0001F600-\\U0001F64F\"  # emoticons\n",
        "                           u\"\\U0001F300-\\U0001F5FF\"  # symbols & pictographs\n",
        "                           u\"\\U0001F680-\\U0001F6FF\"  # transport & map symbols\n",
        "                           u\"\\U0001F1E0-\\U0001F1FF\"  # flags (iOS)\n",
        "                           u\"\\U00002702-\\U000027B0\"\n",
        "                           u\"\\U000024C2-\\U0001F251\"\n",
        "                           \"]+\", flags=re.UNICODE)\n",
        "    return emoji_pattern.sub(r'', string)\n",
        "tweets[\"Translated\"] = tweets[\"Translated\"].apply(lambda text: remove_emoji(text))\n",
        "tweets['Translated']=tweets['Translated'].apply(str)\n",
        "tweets['Translated']=tweets['Translated'].apply(lambda x:word_tokenize(x))\n",
        "\n",
        "def remove_stopwords(words):\n",
        "    stop_words=set(stopwords.words('english'))\n",
        "    return [word for word in words if word not in stop_words]\n",
        "tweets['Translated']=tweets['Translated'].apply(lambda x: remove_stopwords(x))\n",
        "\n",
        "\n",
        "def lemmatizing(words):\n",
        "    lemmatizer = WordNetLemmatizer()\n",
        "    return [lemmatizer.lemmatize(word) for word in words]\n",
        "tweets['Translated']=tweets['Translated'].apply(lambda x: lemmatizing(x))\n",
        "\n",
        "def final_text(words):\n",
        "     return ' '.join(words)\n",
        "tweets['Translated']=tweets['Translated'].apply(lambda x:final_text(x))\n",
        "   "
      ],
      "execution_count": null,
      "outputs": []
    },
    {
      "cell_type": "markdown",
      "metadata": {
        "id": "23H-rBAclh40"
      },
      "source": [
        "# **Feature Engineering**"
      ]
    },
    {
      "cell_type": "code",
      "metadata": {
        "id": "GY7DbGsGlof9"
      },
      "source": [
        "def getSubjectivity(text): # function to get subjectivity scores\n",
        "    return TextBlob(text).sentiment.subjectivity\n",
        "\n",
        "def getPolarity(text): # function to get polarity scores\n",
        "    return TextBlob(text).sentiment.polarity\n",
        "\n",
        "# applying the functions getSubjectivity and getPolarity on the Translated data\n",
        "# creating new feature for subjectivity and polarity\n",
        "tweets['Subjectivity'] = tweets['Translated'].apply(lambda x: getSubjectivity(x))\n",
        "tweets['Polarity'] = tweets['Translated'].apply(lambda x: getPolarity(x))"
      ],
      "execution_count": null,
      "outputs": []
    },
    {
      "cell_type": "code",
      "metadata": {
        "colab": {
          "base_uri": "https://localhost:8080/",
          "height": 530
        },
        "id": "Aujglc0H7tIz",
        "outputId": "e9df23ba-4f63-4778-a0fc-997d6d53af48"
      },
      "source": [
        "tweets.head()"
      ],
      "execution_count": null,
      "outputs": [
        {
          "output_type": "execute_result",
          "data": {
            "text/html": [
              "<div>\n",
              "<style scoped>\n",
              "    .dataframe tbody tr th:only-of-type {\n",
              "        vertical-align: middle;\n",
              "    }\n",
              "\n",
              "    .dataframe tbody tr th {\n",
              "        vertical-align: top;\n",
              "    }\n",
              "\n",
              "    .dataframe thead th {\n",
              "        text-align: right;\n",
              "    }\n",
              "</style>\n",
              "<table border=\"1\" class=\"dataframe\">\n",
              "  <thead>\n",
              "    <tr style=\"text-align: right;\">\n",
              "      <th></th>\n",
              "      <th>Tweet ID</th>\n",
              "      <th>Country</th>\n",
              "      <th>Date</th>\n",
              "      <th>Tweet</th>\n",
              "      <th>Definitely English</th>\n",
              "      <th>Ambiguous</th>\n",
              "      <th>Definitely Not English</th>\n",
              "      <th>Code-Switched</th>\n",
              "      <th>Ambiguous due to Named Entities</th>\n",
              "      <th>Automatically Generated Tweets</th>\n",
              "      <th>Language</th>\n",
              "      <th>Translated</th>\n",
              "      <th>Subjectivity</th>\n",
              "      <th>Polarity</th>\n",
              "    </tr>\n",
              "  </thead>\n",
              "  <tbody>\n",
              "    <tr>\n",
              "      <th>0</th>\n",
              "      <td>4.342160e+17</td>\n",
              "      <td>TR</td>\n",
              "      <td>2/14/2014</td>\n",
              "      <td>BugÃ¼n bulusmami lazimdiii</td>\n",
              "      <td>0</td>\n",
              "      <td>0</td>\n",
              "      <td>1</td>\n",
              "      <td>0</td>\n",
              "      <td>0</td>\n",
              "      <td>0</td>\n",
              "      <td>tr</td>\n",
              "      <td>bugã¼n bulusmami lazimdiii</td>\n",
              "      <td>0.000000</td>\n",
              "      <td>0.000</td>\n",
              "    </tr>\n",
              "    <tr>\n",
              "      <th>1</th>\n",
              "      <td>2.859030e+17</td>\n",
              "      <td>TR</td>\n",
              "      <td>1/1/2013</td>\n",
              "      <td>Volkan konak adami tribe sokar yemin ederim :D</td>\n",
              "      <td>0</td>\n",
              "      <td>0</td>\n",
              "      <td>1</td>\n",
              "      <td>0</td>\n",
              "      <td>0</td>\n",
              "      <td>0</td>\n",
              "      <td>id</td>\n",
              "      <td>volkan konak adami tribe sokar yemin ederim</td>\n",
              "      <td>0.000000</td>\n",
              "      <td>0.000</td>\n",
              "    </tr>\n",
              "    <tr>\n",
              "      <th>2</th>\n",
              "      <td>2.859480e+17</td>\n",
              "      <td>NL</td>\n",
              "      <td>1/1/2013</td>\n",
              "      <td>Bed</td>\n",
              "      <td>1</td>\n",
              "      <td>0</td>\n",
              "      <td>0</td>\n",
              "      <td>0</td>\n",
              "      <td>0</td>\n",
              "      <td>0</td>\n",
              "      <td>de</td>\n",
              "      <td>bed</td>\n",
              "      <td>0.000000</td>\n",
              "      <td>0.000</td>\n",
              "    </tr>\n",
              "    <tr>\n",
              "      <th>3</th>\n",
              "      <td>2.859660e+17</td>\n",
              "      <td>US</td>\n",
              "      <td>1/1/2013</td>\n",
              "      <td>I felt my first flash of violence at some fool...</td>\n",
              "      <td>1</td>\n",
              "      <td>0</td>\n",
              "      <td>0</td>\n",
              "      <td>0</td>\n",
              "      <td>0</td>\n",
              "      <td>0</td>\n",
              "      <td>en</td>\n",
              "      <td>felt first flash violence fool bumped pity fool</td>\n",
              "      <td>0.266667</td>\n",
              "      <td>0.075</td>\n",
              "    </tr>\n",
              "    <tr>\n",
              "      <th>4</th>\n",
              "      <td>2.860580e+17</td>\n",
              "      <td>US</td>\n",
              "      <td>1/1/2013</td>\n",
              "      <td>Ladies drink and get in free till 10:30</td>\n",
              "      <td>1</td>\n",
              "      <td>0</td>\n",
              "      <td>0</td>\n",
              "      <td>0</td>\n",
              "      <td>0</td>\n",
              "      <td>0</td>\n",
              "      <td>af</td>\n",
              "      <td>lady drink get free till 1030</td>\n",
              "      <td>0.800000</td>\n",
              "      <td>0.400</td>\n",
              "    </tr>\n",
              "  </tbody>\n",
              "</table>\n",
              "</div>"
            ],
            "text/plain": [
              "       Tweet ID Country  ... Subjectivity Polarity\n",
              "0  4.342160e+17      TR  ...     0.000000    0.000\n",
              "1  2.859030e+17      TR  ...     0.000000    0.000\n",
              "2  2.859480e+17      NL  ...     0.000000    0.000\n",
              "3  2.859660e+17      US  ...     0.266667    0.075\n",
              "4  2.860580e+17      US  ...     0.800000    0.400\n",
              "\n",
              "[5 rows x 14 columns]"
            ]
          },
          "metadata": {},
          "execution_count": 51
        }
      ]
    },
    {
      "cell_type": "markdown",
      "metadata": {
        "id": "Zxz0-NZAlwrD"
      },
      "source": [
        "# **Sentiment Analysis**"
      ]
    },
    {
      "cell_type": "code",
      "metadata": {
        "colab": {
          "base_uri": "https://localhost:8080/",
          "height": 204
        },
        "id": "HIeZZU63lvjv",
        "outputId": "6bf19300-e598-412e-b91b-4a6f1136f2ed"
      },
      "source": [
        "def getSentimentScore(text): #function to get sentiment scores\n",
        "    sia = SentimentIntensityAnalyzer()\n",
        "    return sia.polarity_scores(text)\n",
        "\n",
        "compound = []\n",
        "for i in tweets['Translated']:\n",
        "    SIA = getSentimentScore(i)\n",
        "    compound.append(SIA['compound'])\n",
        "\n",
        "tweets['Compound'] = compound\n",
        "\n",
        "# Creating label from compond features\n",
        "label = []\n",
        "for i in tweets['Compound']:\n",
        "    if i>0:\n",
        "        label.append(1)\n",
        "    else:\n",
        "        label.append(0)\n",
        "tweets['Label'] = label\n",
        "tweets[['Translated','Language','Subjectivity','Polarity','Label']].head()"
      ],
      "execution_count": null,
      "outputs": [
        {
          "output_type": "execute_result",
          "data": {
            "text/html": [
              "<div>\n",
              "<style scoped>\n",
              "    .dataframe tbody tr th:only-of-type {\n",
              "        vertical-align: middle;\n",
              "    }\n",
              "\n",
              "    .dataframe tbody tr th {\n",
              "        vertical-align: top;\n",
              "    }\n",
              "\n",
              "    .dataframe thead th {\n",
              "        text-align: right;\n",
              "    }\n",
              "</style>\n",
              "<table border=\"1\" class=\"dataframe\">\n",
              "  <thead>\n",
              "    <tr style=\"text-align: right;\">\n",
              "      <th></th>\n",
              "      <th>Translated</th>\n",
              "      <th>Language</th>\n",
              "      <th>Subjectivity</th>\n",
              "      <th>Polarity</th>\n",
              "      <th>Label</th>\n",
              "    </tr>\n",
              "  </thead>\n",
              "  <tbody>\n",
              "    <tr>\n",
              "      <th>0</th>\n",
              "      <td>bugã¼n bulusmami lazimdiii</td>\n",
              "      <td>tr</td>\n",
              "      <td>0.000000</td>\n",
              "      <td>0.000</td>\n",
              "      <td>0</td>\n",
              "    </tr>\n",
              "    <tr>\n",
              "      <th>1</th>\n",
              "      <td>volkan konak adami tribe sokar yemin ederim</td>\n",
              "      <td>id</td>\n",
              "      <td>0.000000</td>\n",
              "      <td>0.000</td>\n",
              "      <td>0</td>\n",
              "    </tr>\n",
              "    <tr>\n",
              "      <th>2</th>\n",
              "      <td>bed</td>\n",
              "      <td>de</td>\n",
              "      <td>0.000000</td>\n",
              "      <td>0.000</td>\n",
              "      <td>0</td>\n",
              "    </tr>\n",
              "    <tr>\n",
              "      <th>3</th>\n",
              "      <td>felt first flash violence fool bumped pity fool</td>\n",
              "      <td>en</td>\n",
              "      <td>0.266667</td>\n",
              "      <td>0.075</td>\n",
              "      <td>0</td>\n",
              "    </tr>\n",
              "    <tr>\n",
              "      <th>4</th>\n",
              "      <td>lady drink get free till 1030</td>\n",
              "      <td>af</td>\n",
              "      <td>0.800000</td>\n",
              "      <td>0.400</td>\n",
              "      <td>1</td>\n",
              "    </tr>\n",
              "  </tbody>\n",
              "</table>\n",
              "</div>"
            ],
            "text/plain": [
              "                                        Translated Language  ...  Polarity  Label\n",
              "0                       bugã¼n bulusmami lazimdiii       tr  ...     0.000      0\n",
              "1      volkan konak adami tribe sokar yemin ederim       id  ...     0.000      0\n",
              "2                                              bed       de  ...     0.000      0\n",
              "3  felt first flash violence fool bumped pity fool       en  ...     0.075      0\n",
              "4                    lady drink get free till 1030       af  ...     0.400      1\n",
              "\n",
              "[5 rows x 5 columns]"
            ]
          },
          "metadata": {},
          "execution_count": 52
        }
      ]
    },
    {
      "cell_type": "markdown",
      "metadata": {
        "id": "drLeymRluEke"
      },
      "source": [
        "# **Splitting our data into Train and Test Subset**"
      ]
    },
    {
      "cell_type": "code",
      "metadata": {
        "id": "8hRUCMd-t_jX"
      },
      "source": [
        "train_df = tweets[['Translated','Subjectivity','Polarity','Label']][:-50]\n",
        "test_df = tweets[['Translated','Subjectivity','Polarity','Label']][-50:] "
      ],
      "execution_count": null,
      "outputs": []
    },
    {
      "cell_type": "markdown",
      "metadata": {
        "id": "3bpX9qCzuVcg"
      },
      "source": [
        "# **Transforming Dataset using TF-IDF Vectorizer**"
      ]
    },
    {
      "cell_type": "code",
      "metadata": {
        "id": "aF6zFqjVuUvC"
      },
      "source": [
        "vect=TfidfVectorizer(min_df=3\n",
        "                      ,analyzer=\"word\",  ngram_range=(1,3) \n",
        "                           ).fit(train_df['Translated'])\n",
        "x_train_vect=vect.fit_transform(train_df['Translated'])\n",
        "# Combining textual as well as numerical features in training set\n",
        "X = np.hstack((x_train_vect.todense(), train_df.drop(['Label','Translated'], axis = 1)))\n"
      ],
      "execution_count": null,
      "outputs": []
    },
    {
      "cell_type": "markdown",
      "metadata": {
        "id": "udZeel30ueKc"
      },
      "source": [
        "# **Machine Learning Modelling**\n"
      ]
    },
    {
      "cell_type": "code",
      "metadata": {
        "colab": {
          "base_uri": "https://localhost:8080/"
        },
        "id": "UfztbtXUudo6",
        "outputId": "3c482389-4dfb-47f3-954d-fcbab2add4d2"
      },
      "source": [
        "model1 = DecisionTreeClassifier()\n",
        "model1.fit(X,train_df['Label'])\n",
        "# Prediction on the test data\n",
        "predictions=model1.predict(np.hstack((vect.transform(test_df['Translated']).todense(),\n",
        "                                      test_df.drop(['Label','Translated'], axis = 1))))\n",
        "accuracy_dtc = round(accuracy_score(test_df['Label'], predictions)*100,2)\n",
        "f1_dtc = round(f1_score(test_df['Label'], predictions)*100,2)\n",
        "print('Accuracy of Decision Tree Classifier : {}'.format(accuracy_dtc))"
      ],
      "execution_count": null,
      "outputs": [
        {
          "output_type": "stream",
          "name": "stdout",
          "text": [
            "Accuracy of Decision Tree Classifier : 82.0\n"
          ]
        }
      ]
    },
    {
      "cell_type": "code",
      "metadata": {
        "colab": {
          "base_uri": "https://localhost:8080/"
        },
        "id": "JutzJC9ZuoWF",
        "outputId": "6e0ffa53-9433-4cf6-a4e7-93108c34f8f4"
      },
      "source": [
        "\n",
        "model2=RandomForestClassifier(n_estimators = 300, criterion = 'entropy',\n",
        "                             min_samples_split=10, random_state=0)\n",
        "model2.fit(X,train_df['Label'])\n",
        "predictions=model2.predict(np.hstack((vect.transform(test_df['Translated']).todense(),test_df.drop(['Label','Translated'], axis = 1))))\n",
        "accuracy_rfc = round(accuracy_score(test_df['Label'], predictions)*100,2)\n",
        "f1_rfc = round(f1_score(test_df['Label'], predictions)*100,2)\n",
        "print('Accuracy of Random Forest Classifier : {}'.format(accuracy_rfc))"
      ],
      "execution_count": null,
      "outputs": [
        {
          "output_type": "stream",
          "name": "stdout",
          "text": [
            "Accuracy of Random Forest Classifier : 86.0\n"
          ]
        }
      ]
    },
    {
      "cell_type": "code",
      "metadata": {
        "colab": {
          "base_uri": "https://localhost:8080/"
        },
        "id": "6BDgWiAvurNe",
        "outputId": "3d886b80-403b-4489-99f8-2199c50d0d27"
      },
      "source": [
        "model3=SVC()\n",
        "model3.fit(X,train_df['Label'])\n",
        "predictions=model3.predict(np.hstack((vect.transform(test_df['Translated']).todense(),test_df.drop(['Label','Translated'], axis = 1))))\n",
        "accuracy_svc = round(accuracy_score(test_df['Label'], predictions)*100,2)\n",
        "f1_svc = round(f1_score(test_df['Label'], predictions)*100,2)\n",
        "print('Accuracy of Support Vector Machine : {}'.format(accuracy_svc))"
      ],
      "execution_count": null,
      "outputs": [
        {
          "output_type": "stream",
          "name": "stdout",
          "text": [
            "Accuracy of Support Vector Machine : 86.0\n"
          ]
        }
      ]
    },
    {
      "cell_type": "code",
      "metadata": {
        "colab": {
          "base_uri": "https://localhost:8080/"
        },
        "id": "068dcxKdusy0",
        "outputId": "d871af51-c3c8-43a6-8191-9f2714b6cdbf"
      },
      "source": [
        "model4=LogisticRegression()\n",
        "model4.fit(X,train_df['Label'])\n",
        "predictions=model4.predict(np.hstack((vect.transform(test_df['Translated']).todense(),test_df.drop(['Label','Translated'], axis = 1))))\n",
        "accuracy_lr = round(accuracy_score(test_df['Label'], predictions)*100,2)\n",
        "f1_lr = round(f1_score(test_df['Label'], predictions)*100,2)\n",
        "print('Accuracy of Logistic Regression : {}'.format(accuracy_lr))"
      ],
      "execution_count": null,
      "outputs": [
        {
          "output_type": "stream",
          "name": "stdout",
          "text": [
            "Accuracy of Logistic Regression : 84.0\n"
          ]
        }
      ]
    },
    {
      "cell_type": "code",
      "metadata": {
        "colab": {
          "base_uri": "https://localhost:8080/"
        },
        "id": "cvdBnS5Huuai",
        "outputId": "0dfff6b3-7fe2-4899-fa1b-698b15847d30"
      },
      "source": [
        "\n",
        "model5= KNeighborsClassifier(n_neighbors=5, metric='minkowski', p=2 )  \n",
        "model5.fit(X,train_df['Label'])\n",
        "predictions=model5.predict(np.hstack((vect.transform(test_df['Translated']).todense(),test_df.drop(['Label','Translated'], axis = 1))))\n",
        "accuracy_knn = round(accuracy_score(test_df['Label'], predictions)*100,2)\n",
        "f1_knn = round(f1_score(test_df['Label'], predictions)*100,2)\n",
        "print('Accuracy of KNeighbors Classifier : {}'.format(accuracy_knn))"
      ],
      "execution_count": null,
      "outputs": [
        {
          "output_type": "stream",
          "name": "stdout",
          "text": [
            "Accuracy of KNeighbors Classifier : 86.0\n"
          ]
        }
      ]
    },
    {
      "cell_type": "code",
      "metadata": {
        "id": "0yiJIucw7Zam",
        "colab": {
          "base_uri": "https://localhost:8080/",
          "height": 558
        },
        "outputId": "0d36422c-3ea6-4aa2-8ade-9959dde9493e"
      },
      "source": [
        "accuracy_scores = [accuracy_dtc, accuracy_rfc, accuracy_svc, accuracy_lr, accuracy_knn]\n",
        "model_names = ['Decision Tree \\nClassifier', 'Random Forest \\nClassifier', 'Support \\nVector Machine',\n",
        "               'Logistic \\nRegression', 'KNeighbors \\nClassifier']\n",
        "\n",
        "plt.figure(figsize=(15,8))\n",
        "\n",
        "plt.grid(b=True, which='major', axis='y')\n",
        "plt.title('Comparing Accuracy of ML Models',fontsize=20)\n",
        "colors=['red','orange','green','magenta','cyan']\n",
        "plt.xticks(fontsize=20)\n",
        "plt.yticks(fontsize=20)\n",
        "plt.ylabel('Accuracy in %',fontsize=20)\n",
        "plt.xlabel('ML Models',fontsize=20)\n",
        "bar = plt.bar(model_names,accuracy_scores,edgecolor='black',color=colors, linewidth=2)\n",
        "def autolabel(rects):\n",
        "    for rect in rects:\n",
        "        h = rect.get_height()\n",
        "        plt.text(rect.get_x()+rect.get_width()/2, 1.0*(h), '%d'%int(h),\n",
        "                    ha='center', va='bottom',fontsize=15)\n",
        "autolabel(bar)"
      ],
      "execution_count": null,
      "outputs": [
        {
          "output_type": "display_data",
          "data": {
            "image/png": "[encoded data removed]",
            "text/plain": [
              "<Figure size 1080x576 with 1 Axes>"
            ]
          },
          "metadata": {
            "needs_background": "light"
          }
        }
      ]
    },
    {
      "cell_type": "code",
      "metadata": {
        "colab": {
          "base_uri": "https://localhost:8080/",
          "height": 558
        },
        "id": "haUwSNF7kKe2",
        "outputId": "a6c4a8ac-c8b0-4e47-9a26-d355be6b0a87"
      },
      "source": [
        "f1_scores = [f1_dtc, f1_rfc, f1_svc, f1_lr, f1_knn]\n",
        "plt.figure(figsize=(15,8))\n",
        "\n",
        "plt.grid(b=True, which='major', axis='both')\n",
        "plt.title('Comparing F1 Score of ML Models',fontsize=20)\n",
        "plt.xticks(fontsize=20)\n",
        "plt.yticks(fontsize=20)\n",
        "plt.ylabel('F1 score in %',fontsize=20)\n",
        "plt.xlabel('ML Models',fontsize=20)\n",
        "bar = plt.plot(model_names,f1_scores,'ko--', linewidth=4, markersize=12)\n",
        "# def autolabel(rects):\n",
        "#     for rect in rects:\n",
        "#         h = rect.get_height()\n",
        "#         plt.text(rect.get_x()+rect.get_width()/2, 1.0*(h), '%d'%int(h),\n",
        "#                     ha='center', va='bottom',fontsize=15)\n",
        "# autolabel(bar)"
      ],
      "execution_count": null,
      "outputs": [
        {
          "output_type": "display_data",
          "data": {
            "image/png": "[encoded data removed]",
            "text/plain": [
              "<Figure size 1080x576 with 1 Axes>"
            ]
          },
          "metadata": {
            "needs_background": "light"
          }
        }
      ]
    },
    {
      "cell_type": "code",
      "metadata": {
        "id": "al_VG8khljql"
      },
      "source": [
        ""
      ],
      "execution_count": null,
      "outputs": []
    }
  ]
}